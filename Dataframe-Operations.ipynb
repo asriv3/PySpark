{
 "cells": [
  {
   "cell_type": "code",
   "execution_count": 1,
   "metadata": {},
   "outputs": [],
   "source": [
    "from pyspark import SparkContext,SQLContext\n",
    "sc = SparkContext()\n",
    "sqlContext=SQLContext(sc)"
   ]
  },
  {
   "cell_type": "markdown",
   "metadata": {},
   "source": [
    "## Creating DataFrame from RDD"
   ]
  },
  {
   "cell_type": "raw",
   "metadata": {},
   "source": [
    "I am following these steps for creating a DataFrame from list of tuples:\n",
    "\n",
    "1. Create a list of tuples. Each tuple contains name of a person with age.\n",
    "2. Create a RDD from the list above.\n",
    "3. Convert each tuple to a row.\n",
    "4. Create a DataFrame by applying createDataFrame on RDD with the help of sqlContext."
   ]
  },
  {
   "cell_type": "code",
   "execution_count": 2,
   "metadata": {},
   "outputs": [],
   "source": [
    "from pyspark.sql import Row\n",
    "l = [('Ankit',25),('Jalfaizy',22),('saurabh',20),('Bala',26)]\n",
    "rdd = sc.parallelize(l)\n",
    "people = rdd.map(lambda x: Row(name=x[0], age=int(x[1])))\n",
    "schemaPeople = sqlContext.createDataFrame(people)"
   ]
  },
  {
   "cell_type": "code",
   "execution_count": 3,
   "metadata": {},
   "outputs": [
    {
     "name": "stdout",
     "output_type": "stream",
     "text": [
      "+---+--------+\n",
      "|age|    name|\n",
      "+---+--------+\n",
      "| 25|   Ankit|\n",
      "| 22|Jalfaizy|\n",
      "| 20| saurabh|\n",
      "| 26|    Bala|\n",
      "+---+--------+\n",
      "\n"
     ]
    }
   ],
   "source": [
    "schemaPeople.show()"
   ]
  },
  {
   "cell_type": "markdown",
   "metadata": {},
   "source": [
    "## Creating the DataFrame from CSV file"
   ]
  },
  {
   "cell_type": "code",
   "execution_count": 4,
   "metadata": {},
   "outputs": [],
   "source": [
    "from pyspark.sql import SparkSession\n",
    "\n",
    "spark = SparkSession \\\n",
    "    .builder \\\n",
    "    .appName('Create Dataframe with CSV') \\\n",
    "    .getOrCreate()\n",
    "\n"
   ]
  },
  {
   "cell_type": "code",
   "execution_count": 5,
   "metadata": {},
   "outputs": [],
   "source": [
    "hrDF=spark.read.csv('HRDataset_v13.csv',header=True,inferSchema=True)"
   ]
  },
  {
   "cell_type": "markdown",
   "metadata": {},
   "source": [
    "# DataFrame Manipulation"
   ]
  },
  {
   "cell_type": "markdown",
   "metadata": {},
   "source": [
    "## How to see datatype of columns?"
   ]
  },
  {
   "cell_type": "code",
   "execution_count": 6,
   "metadata": {},
   "outputs": [
    {
     "name": "stdout",
     "output_type": "stream",
     "text": [
      "root\n",
      " |-- Employee_Name: string (nullable = true)\n",
      " |-- EmpID: integer (nullable = true)\n",
      " |-- MarriedID: integer (nullable = true)\n",
      " |-- MaritalStatusID: integer (nullable = true)\n",
      " |-- GenderID: integer (nullable = true)\n",
      " |-- EmpStatusID: integer (nullable = true)\n",
      " |-- DeptID: integer (nullable = true)\n",
      " |-- PerfScoreID: integer (nullable = true)\n",
      " |-- FromDiversityJobFairID: integer (nullable = true)\n",
      " |-- PayRate: double (nullable = true)\n",
      " |-- Termd: integer (nullable = true)\n",
      " |-- PositionID: integer (nullable = true)\n",
      " |-- Position: string (nullable = true)\n",
      " |-- State: string (nullable = true)\n",
      " |-- Zip: integer (nullable = true)\n",
      " |-- DOB: string (nullable = true)\n",
      " |-- Sex: string (nullable = true)\n",
      " |-- MaritalDesc: string (nullable = true)\n",
      " |-- CitizenDesc: string (nullable = true)\n",
      " |-- HispanicLatino: string (nullable = true)\n",
      " |-- RaceDesc: string (nullable = true)\n",
      " |-- DateofHire: string (nullable = true)\n",
      " |-- DateofTermination: string (nullable = true)\n",
      " |-- TermReason: string (nullable = true)\n",
      " |-- EmploymentStatus: string (nullable = true)\n",
      " |-- Department: string (nullable = true)\n",
      " |-- ManagerName: string (nullable = true)\n",
      " |-- ManagerID: integer (nullable = true)\n",
      " |-- RecruitmentSource: string (nullable = true)\n",
      " |-- PerformanceScore: string (nullable = true)\n",
      " |-- EngagementSurvey: double (nullable = true)\n",
      " |-- EmpSatisfaction: integer (nullable = true)\n",
      " |-- SpecialProjectsCount: integer (nullable = true)\n",
      " |-- LastPerformanceReview_Date: string (nullable = true)\n",
      " |-- DaysLateLast30: integer (nullable = true)\n",
      "\n"
     ]
    }
   ],
   "source": [
    "hrDF.printSchema()"
   ]
  },
  {
   "cell_type": "markdown",
   "metadata": {},
   "source": [
    "## How to Show first n observation?"
   ]
  },
  {
   "cell_type": "code",
   "execution_count": 43,
   "metadata": {},
   "outputs": [
    {
     "data": {
      "text/plain": [
       "[Row(Employee_Name='Brown, Mia', EmpID=1103024456, MarriedID=1, MaritalStatusID=1, GenderID=0, EmpStatusID=1, DeptID=1, PerfScoreID=3, FromDiversityJobFairID=1, PayRate=28.5, Termd=0, PositionID=1, Position='Accountant I', State='MA', Zip=1450, DOB='11/24/87', Sex='F', MaritalDesc='Married', CitizenDesc='US Citizen', HispanicLatino='No', RaceDesc='Black or African American', DateofHire='10/27/2008', DateofTermination=None, TermReason='N/A - still employed', EmploymentStatus='Active', Department='Admin Offices', ManagerName='Brandon R. LeBlanc', ManagerID=1, RecruitmentSource='Diversity Job Fair', PerformanceScore='Fully Meets', EngagementSurvey=2.04, EmpSatisfaction=2, SpecialProjectsCount=6, LastPerformanceReview_Date='1/15/2019', DaysLateLast30=0),\n",
       " Row(Employee_Name='LaRotonda, William  ', EmpID=1106026572, MarriedID=0, MaritalStatusID=2, GenderID=1, EmpStatusID=1, DeptID=1, PerfScoreID=3, FromDiversityJobFairID=0, PayRate=23.0, Termd=0, PositionID=1, Position='Accountant I', State='MA', Zip=1460, DOB='04/26/84', Sex='M ', MaritalDesc='Divorced', CitizenDesc='US Citizen', HispanicLatino='No', RaceDesc='Black or African American', DateofHire='1/6/2014', DateofTermination=None, TermReason='N/A - still employed', EmploymentStatus='Active', Department='Admin Offices', ManagerName='Brandon R. LeBlanc', ManagerID=1, RecruitmentSource='Website Banner Ads', PerformanceScore='Fully Meets', EngagementSurvey=5.0, EmpSatisfaction=4, SpecialProjectsCount=4, LastPerformanceReview_Date='1/17/2019', DaysLateLast30=0)]"
      ]
     },
     "execution_count": 43,
     "metadata": {},
     "output_type": "execute_result"
    }
   ],
   "source": [
    "hrDF.head(2)"
   ]
  },
  {
   "cell_type": "raw",
   "metadata": {},
   "source": [
    "Above results are comprised of row like format.\n",
    "\n",
    "To see the result in more interactive manner , we can use the show operation. Let’s apply show operation on dataframe and take first 2 rows of it."
   ]
  },
  {
   "cell_type": "code",
   "execution_count": 44,
   "metadata": {},
   "outputs": [
    {
     "name": "stdout",
     "output_type": "stream",
     "text": [
      "+--------------------+----------+---------+---------------+--------+-----------+------+-----------+----------------------+-------+-----+----------+------------+-----+----+--------+---+-----------+-----------+--------------+--------------------+----------+-----------------+--------------------+----------------+-------------+------------------+---------+------------------+----------------+----------------+---------------+--------------------+--------------------------+--------------+\n",
      "|       Employee_Name|     EmpID|MarriedID|MaritalStatusID|GenderID|EmpStatusID|DeptID|PerfScoreID|FromDiversityJobFairID|PayRate|Termd|PositionID|    Position|State| Zip|     DOB|Sex|MaritalDesc|CitizenDesc|HispanicLatino|            RaceDesc|DateofHire|DateofTermination|          TermReason|EmploymentStatus|   Department|       ManagerName|ManagerID| RecruitmentSource|PerformanceScore|EngagementSurvey|EmpSatisfaction|SpecialProjectsCount|LastPerformanceReview_Date|DaysLateLast30|\n",
      "+--------------------+----------+---------+---------------+--------+-----------+------+-----------+----------------------+-------+-----+----------+------------+-----+----+--------+---+-----------+-----------+--------------+--------------------+----------+-----------------+--------------------+----------------+-------------+------------------+---------+------------------+----------------+----------------+---------------+--------------------+--------------------------+--------------+\n",
      "|          Brown, Mia|1103024456|        1|              1|       0|          1|     1|          3|                     1|   28.5|    0|         1|Accountant I|   MA|1450|11/24/87|  F|    Married| US Citizen|            No|Black or African ...|10/27/2008|             null|N/A - still employed|          Active|Admin Offices|Brandon R. LeBlanc|        1|Diversity Job Fair|     Fully Meets|            2.04|              2|                   6|                 1/15/2019|             0|\n",
      "|LaRotonda, William  |1106026572|        0|              2|       1|          1|     1|          3|                     0|   23.0|    0|         1|Accountant I|   MA|1460|04/26/84| M |   Divorced| US Citizen|            No|Black or African ...|  1/6/2014|             null|N/A - still employed|          Active|Admin Offices|Brandon R. LeBlanc|        1|Website Banner Ads|     Fully Meets|             5.0|              4|                   4|                 1/17/2019|             0|\n",
      "+--------------------+----------+---------+---------------+--------+-----------+------+-----------+----------------------+-------+-----+----------+------------+-----+----+--------+---+-----------+-----------+--------------+--------------------+----------+-----------------+--------------------+----------------+-------------+------------------+---------+------------------+----------------+----------------+---------------+--------------------+--------------------------+--------------+\n",
      "only showing top 2 rows\n",
      "\n"
     ]
    }
   ],
   "source": [
    "hrDF.show(2)"
   ]
  },
  {
   "cell_type": "markdown",
   "metadata": {},
   "source": [
    "## How to Count the number of rows in DataFrame?"
   ]
  },
  {
   "cell_type": "code",
   "execution_count": 9,
   "metadata": {},
   "outputs": [
    {
     "data": {
      "text/plain": [
       "401"
      ]
     },
     "execution_count": 9,
     "metadata": {},
     "output_type": "execute_result"
    }
   ],
   "source": [
    "hrDF.count()"
   ]
  },
  {
   "cell_type": "markdown",
   "metadata": {},
   "source": [
    "## How many columns do we have along with their names?"
   ]
  },
  {
   "cell_type": "code",
   "execution_count": 10,
   "metadata": {},
   "outputs": [
    {
     "data": {
      "text/plain": [
       "['Employee_Name',\n",
       " 'EmpID',\n",
       " 'MarriedID',\n",
       " 'MaritalStatusID',\n",
       " 'GenderID',\n",
       " 'EmpStatusID',\n",
       " 'DeptID',\n",
       " 'PerfScoreID',\n",
       " 'FromDiversityJobFairID',\n",
       " 'PayRate',\n",
       " 'Termd',\n",
       " 'PositionID',\n",
       " 'Position',\n",
       " 'State',\n",
       " 'Zip',\n",
       " 'DOB',\n",
       " 'Sex',\n",
       " 'MaritalDesc',\n",
       " 'CitizenDesc',\n",
       " 'HispanicLatino',\n",
       " 'RaceDesc',\n",
       " 'DateofHire',\n",
       " 'DateofTermination',\n",
       " 'TermReason',\n",
       " 'EmploymentStatus',\n",
       " 'Department',\n",
       " 'ManagerName',\n",
       " 'ManagerID',\n",
       " 'RecruitmentSource',\n",
       " 'PerformanceScore',\n",
       " 'EngagementSurvey',\n",
       " 'EmpSatisfaction',\n",
       " 'SpecialProjectsCount',\n",
       " 'LastPerformanceReview_Date',\n",
       " 'DaysLateLast30']"
      ]
     },
     "execution_count": 10,
     "metadata": {},
     "output_type": "execute_result"
    }
   ],
   "source": [
    "hrDF.columns"
   ]
  },
  {
   "cell_type": "markdown",
   "metadata": {},
   "source": [
    "## How to get the summary statistics (mean, standard deviance, min ,max, count) of numerical columns in a DataFrame?"
   ]
  },
  {
   "cell_type": "code",
   "execution_count": 45,
   "metadata": {},
   "outputs": [
    {
     "name": "stdout",
     "output_type": "stream",
     "text": [
      "+-------+-------------------+--------------------+-------------------+------------------+------------------+------------------+-----------------+------------------+----------------------+------------------+-------------------+------------------+--------------------+-----+-----------------+--------+----+-----------+-------------------+--------------+--------------------+----------+-----------------+----------------+--------------------+--------------------+---------------+------------------+-----------------+----------------+------------------+------------------+--------------------+--------------------------+--------------+\n",
      "|summary|      Employee_Name|               EmpID|          MarriedID|   MaritalStatusID|          GenderID|       EmpStatusID|           DeptID|       PerfScoreID|FromDiversityJobFairID|           PayRate|              Termd|        PositionID|            Position|State|              Zip|     DOB| Sex|MaritalDesc|        CitizenDesc|HispanicLatino|            RaceDesc|DateofHire|DateofTermination|      TermReason|    EmploymentStatus|          Department|    ManagerName|         ManagerID|RecruitmentSource|PerformanceScore|  EngagementSurvey|   EmpSatisfaction|SpecialProjectsCount|LastPerformanceReview_Date|DaysLateLast30|\n",
      "+-------+-------------------+--------------------+-------------------+------------------+------------------+------------------+-----------------+------------------+----------------------+------------------+-------------------+------------------+--------------------+-----+-----------------+--------+----+-----------+-------------------+--------------+--------------------+----------+-----------------+----------------+--------------------+--------------------+---------------+------------------+-----------------+----------------+------------------+------------------+--------------------+--------------------------+--------------+\n",
      "|  count|                310|                 310|                310|               310|               310|               310|              310|               310|                   310|               310|                310|               310|                 310|  310|              310|     310| 310|        310|                310|           310|                 310|       310|              103|             309|                 310|                 310|            310|               302|              310|             310|               310|               310|                 310|                       207|           207|\n",
      "|   mean|               null| 1.199745348732258E9| 0.3967741935483871|0.8096774193548387|0.4290322580645161|2.3967741935483873|4.606451612903226|2.9838709677419355|    0.0935483870967742| 31.28480645161292|0.33225806451612905|16.838709677419356|                null| null|6569.732258064516|    null|null|       null|               null|          null|                null|      null|             null|            null|                null|                null|           null|14.579470198675496|             null|            null| 3.332096774193548| 3.890322580645161|  1.2096774193548387|                      null|           0.0|\n",
      "| stddev|               null|1.8295995558201364E8|0.49001939791717225|0.9447024286919616|0.4957381788788523| 1.795532728902942|1.082348962944201|0.5771242030588751|   0.29167020861941934|15.383615284388823|0.47178453255833885| 6.232272070293342|                null| null| 16933.8640544565|    null|null|       null|               null|          null|                null|      null|             null|            null|                null|                null|           null| 8.090352056376712|             null|            null|1.2905902128098459|0.9106897839879314|   2.352008690337631|                      null|           0.0|\n",
      "|    min|Adinolfi, Wilson  K|           602000312|                  0|                 0|                 0|                 1|                1|                 1|                     0|              14.0|                  0|                 1|        Accountant I|   AL|             1013|01/02/51|   F|   Divorced|Eligible NonCitizen|            No|American Indian o...| 1/10/2011|         01/02/12|Another position|              Active|       Admin Offices|Alex Sweetwater|                 1|        Billboard|         Exceeds|              1.03|                 1|                   0|                 1/10/2019|             0|\n",
      "|    max|      Zima, Colleen|          1988299991|                  1|                 4|                 1|                 5|                6|                 4|                     1|              80.0|                  1|                30|Sr. Network Engineer|   WA|            98052|12/31/84|  M |    Widowed|         US Citizen|           yes|               White|  9/6/2016|         12/28/12|         unhappy|Voluntarily Termi...|Software Engineering| Webster Butler|                39|    Word of Mouth|             PIP|               5.0|                 5|                   8|                  2/8/2019|             0|\n",
      "+-------+-------------------+--------------------+-------------------+------------------+------------------+------------------+-----------------+------------------+----------------------+------------------+-------------------+------------------+--------------------+-----+-----------------+--------+----+-----------+-------------------+--------------+--------------------+----------+-----------------+----------------+--------------------+--------------------+---------------+------------------+-----------------+----------------+------------------+------------------+--------------------+--------------------------+--------------+\n",
      "\n"
     ]
    }
   ],
   "source": [
    "hrDF.describe().show(5)"
   ]
  },
  {
   "cell_type": "code",
   "execution_count": 12,
   "metadata": {},
   "outputs": [
    {
     "data": {
      "text/plain": [
       "DataFrame[summary: string, Employee_Name: string, EmpID: string, MarriedID: string, MaritalStatusID: string, GenderID: string, EmpStatusID: string, DeptID: string, PerfScoreID: string, FromDiversityJobFairID: string, PayRate: string, Termd: string, PositionID: string, Position: string, State: string, Zip: string, DOB: string, Sex: string, MaritalDesc: string, CitizenDesc: string, HispanicLatino: string, RaceDesc: string, DateofHire: string, DateofTermination: string, TermReason: string, EmploymentStatus: string, Department: string, ManagerName: string, ManagerID: string, RecruitmentSource: string, PerformanceScore: string, EngagementSurvey: string, EmpSatisfaction: string, SpecialProjectsCount: string, LastPerformanceReview_Date: string, DaysLateLast30: string]"
      ]
     },
     "execution_count": 12,
     "metadata": {},
     "output_type": "execute_result"
    }
   ],
   "source": [
    "hrDF.describe()"
   ]
  },
  {
   "cell_type": "markdown",
   "metadata": {},
   "source": [
    "## How to select column(s) from the DataFrame?"
   ]
  },
  {
   "cell_type": "code",
   "execution_count": 47,
   "metadata": {},
   "outputs": [
    {
     "name": "stdout",
     "output_type": "stream",
     "text": [
      "+--------------------+\n",
      "|       Employee_Name|\n",
      "+--------------------+\n",
      "|          Brown, Mia|\n",
      "|LaRotonda, William  |\n",
      "|    Steans, Tyrone  |\n",
      "|     Howard, Estelle|\n",
      "|         Singh, Nan |\n",
      "+--------------------+\n",
      "only showing top 5 rows\n",
      "\n"
     ]
    }
   ],
   "source": [
    "hrDF.select('Employee_Name').show(5)"
   ]
  },
  {
   "cell_type": "markdown",
   "metadata": {},
   "source": [
    "## How to find the number of distinct product in train and test files?"
   ]
  },
  {
   "cell_type": "code",
   "execution_count": 48,
   "metadata": {},
   "outputs": [
    {
     "data": {
      "text/plain": [
       "(401, 311)"
      ]
     },
     "execution_count": 48,
     "metadata": {},
     "output_type": "execute_result"
    }
   ],
   "source": [
    "hrDF.count(),hrDF.distinct().count()"
   ]
  },
  {
   "cell_type": "markdown",
   "metadata": {},
   "source": [
    "## What if I want to calculate pair wise frequency of categorical columns?"
   ]
  },
  {
   "cell_type": "code",
   "execution_count": 49,
   "metadata": {},
   "outputs": [
    {
     "name": "stdout",
     "output_type": "stream",
     "text": [
      "+---------------+---+---+----+\n",
      "|MaritalDesc_Sex|  F| M |null|\n",
      "+---------------+---+---+----+\n",
      "|           null|  0|  0|  91|\n",
      "|      Separated|  9|  3|   0|\n",
      "|        Widowed|  4|  4|   0|\n",
      "|       Divorced| 16| 14|   0|\n",
      "|        Married| 72| 51|   0|\n",
      "|         Single| 76| 61|   0|\n",
      "+---------------+---+---+----+\n",
      "\n"
     ]
    }
   ],
   "source": [
    "hrDF.crosstab('MaritalDesc', 'Sex').show()"
   ]
  },
  {
   "cell_type": "markdown",
   "metadata": {},
   "source": [
    "## What If I want to get the DataFrame which won’t have duplicate rows of given DataFrame?"
   ]
  },
  {
   "cell_type": "code",
   "execution_count": 50,
   "metadata": {},
   "outputs": [
    {
     "data": {
      "text/plain": [
       "311"
      ]
     },
     "execution_count": 50,
     "metadata": {},
     "output_type": "execute_result"
    }
   ],
   "source": [
    "hrDF.dropDuplicates().count()"
   ]
  },
  {
   "cell_type": "code",
   "execution_count": 51,
   "metadata": {},
   "outputs": [
    {
     "data": {
      "text/plain": [
       "311"
      ]
     },
     "execution_count": 51,
     "metadata": {},
     "output_type": "execute_result"
    }
   ],
   "source": [
    "hrDF.select('*').dropDuplicates().count()"
   ]
  },
  {
   "cell_type": "markdown",
   "metadata": {},
   "source": [
    "## What if I want to drop the all rows with null value?"
   ]
  },
  {
   "cell_type": "code",
   "execution_count": 52,
   "metadata": {},
   "outputs": [
    {
     "data": {
      "text/plain": [
       "(401, 0)"
      ]
     },
     "execution_count": 52,
     "metadata": {},
     "output_type": "execute_result"
    }
   ],
   "source": [
    "hrDF.count(),hrDF.dropna().count()"
   ]
  },
  {
   "cell_type": "markdown",
   "metadata": {},
   "source": [
    "## What if I want to fill the null values in DataFrame with constant number?"
   ]
  },
  {
   "cell_type": "code",
   "execution_count": 53,
   "metadata": {},
   "outputs": [
    {
     "name": "stdout",
     "output_type": "stream",
     "text": [
      "+--------------------+----------+---------+---------------+--------+-----------+------+-----------+----------------------+-------+-----+----------+--------------------+-----+-----+--------+---+-----------+-------------------+--------------+--------------------+----------+-----------------+--------------------+--------------------+-------------+------------------+---------+--------------------+----------------+----------------+---------------+--------------------+--------------------------+--------------+\n",
      "|       Employee_Name|     EmpID|MarriedID|MaritalStatusID|GenderID|EmpStatusID|DeptID|PerfScoreID|FromDiversityJobFairID|PayRate|Termd|PositionID|            Position|State|  Zip|     DOB|Sex|MaritalDesc|        CitizenDesc|HispanicLatino|            RaceDesc|DateofHire|DateofTermination|          TermReason|    EmploymentStatus|   Department|       ManagerName|ManagerID|   RecruitmentSource|PerformanceScore|EngagementSurvey|EmpSatisfaction|SpecialProjectsCount|LastPerformanceReview_Date|DaysLateLast30|\n",
      "+--------------------+----------+---------+---------------+--------+-----------+------+-----------+----------------------+-------+-----+----------+--------------------+-----+-----+--------+---+-----------+-------------------+--------------+--------------------+----------+-----------------+--------------------+--------------------+-------------+------------------+---------+--------------------+----------------+----------------+---------------+--------------------+--------------------------+--------------+\n",
      "|          Brown, Mia|1103024456|        1|              1|       0|          1|     1|          3|                     1|   28.5|    0|         1|        Accountant I|   MA| 1450|11/24/87|  F|    Married|         US Citizen|            No|Black or African ...|10/27/2008|           Anurag|N/A - still employed|              Active|Admin Offices|Brandon R. LeBlanc|        1|  Diversity Job Fair|     Fully Meets|            2.04|              2|                   6|                 1/15/2019|             0|\n",
      "|LaRotonda, William  |1106026572|        0|              2|       1|          1|     1|          3|                     0|   23.0|    0|         1|        Accountant I|   MA| 1460|04/26/84| M |   Divorced|         US Citizen|            No|Black or African ...|  1/6/2014|           Anurag|N/A - still employed|              Active|Admin Offices|Brandon R. LeBlanc|        1|  Website Banner Ads|     Fully Meets|             5.0|              4|                   4|                 1/17/2019|             0|\n",
      "|    Steans, Tyrone  |1302053333|        0|              0|       1|          1|     1|          3|                     0|   29.0|    0|         1|        Accountant I|   MA| 2703|09/01/86| M |     Single|         US Citizen|            No|               White| 9/29/2014|           Anurag|N/A - still employed|              Active|Admin Offices|Brandon R. LeBlanc|        1|     Internet Search|     Fully Meets|             3.9|              5|                   5|                 1/18/2019|             0|\n",
      "|     Howard, Estelle|1211050782|        1|              1|       0|          1|     1|          3|                     0|   21.5|    1|         2|Administrative As...|   MA| 2170|09/16/85|  F|    Married|         US Citizen|            No|               White| 2/16/2015|         04/15/15|              Anurag|Terminated for Cause|Admin Offices|Brandon R. LeBlanc|        1|Pay Per Click - G...|     Fully Meets|            3.24|              3|                   4|                    Anurag|          null|\n",
      "|         Singh, Nan |1307059817|        0|              0|       0|          1|     1|          3|                     0|  16.56|    0|         2|Administrative As...|   MA| 2330|05/19/88|  F|     Single|         US Citizen|            No|               White|  5/1/2015|           Anurag|N/A - still employed|              Active|Admin Offices|Brandon R. LeBlanc|        1|  Website Banner Ads|     Fully Meets|             5.0|              3|                   5|                 1/15/2019|             0|\n",
      "|    Smith, Leigh Ann| 711007713|        1|              1|       0|          5|     1|          3|                     1|   20.5|    1|         2|Administrative As...|   MA| 1844|06/14/87|  F|    Married|         US Citizen|            No|               Asian| 9/26/2011|         09/25/13|       career change|Voluntarily Termi...|Admin Offices|Brandon R. LeBlanc|        1|  Diversity Job Fair|     Fully Meets|             3.8|              4|                   4|                    Anurag|          null|\n",
      "|    Bunbury, Jessica|1504073368|        1|              1|       0|          5|     6|          3|                     0|   55.0|    1|         3|  Area Sales Manager|   VA|21851|06/01/64|  F|    Married|Eligible NonCitizen|            No|Black or African ...| 8/15/2011|         08/02/14|    Another position|Voluntarily Termi...|        Sales|        John Smith|       17|Social Networks -...|     Fully Meets|            3.14|              5|                   0|                    Anurag|          null|\n",
      "|   Carter, Michelle |1403065721|        0|              0|       0|          1|     6|          3|                     0|   55.0|    0|         3|  Area Sales Manager|   VT| 5664|05/15/63|  F|     Single|         US Citizen|            No|               White| 8/18/2014|           Anurag|N/A - still employed|              Active|        Sales|        John Smith|       17|           Billboard|     Fully Meets|             5.0|              5|                   0|                 1/21/2019|             0|\n",
      "|   Dietrich, Jenna  |1408069481|        0|              0|       0|          1|     6|          1|                     0|   55.0|    0|         3|  Area Sales Manager|   WA|98052|05/14/87|  F|     Single|         US Citizen|           Yes|               White| 2/20/2012|           Anurag|N/A - still employed|              Active|        Sales|        John Smith|       17|  Website Banner Ads|             PIP|             2.3|              1|                   0|                 1/29/2019|             0|\n",
      "|    Digitale, Alfred|1306059197|        1|              1|       1|          1|     6|          3|                     0|   56.0|    0|         3|  Area Sales Manager|   NH| 3062|09/14/88| M |    Married|         US Citizen|            No|American Indian o...| 8/18/2014|           Anurag|N/A - still employed|              Active|        Sales|        John Smith|       17|Pay Per Click - G...|     Fully Meets|             3.6|              5|                   0|                 1/30/2019|             0|\n",
      "+--------------------+----------+---------+---------------+--------+-----------+------+-----------+----------------------+-------+-----+----------+--------------------+-----+-----+--------+---+-----------+-------------------+--------------+--------------------+----------+-----------------+--------------------+--------------------+-------------+------------------+---------+--------------------+----------------+----------------+---------------+--------------------+--------------------------+--------------+\n",
      "only showing top 10 rows\n",
      "\n"
     ]
    }
   ],
   "source": [
    "hrDF.fillna('Anurag').show(10)"
   ]
  },
  {
   "cell_type": "markdown",
   "metadata": {},
   "source": [
    "## If I want to filter the rows in DataFrame which has MaritalDesc as 'Single' and 'Married'?"
   ]
  },
  {
   "cell_type": "code",
   "execution_count": 20,
   "metadata": {},
   "outputs": [
    {
     "data": {
      "text/plain": [
       "260"
      ]
     },
     "execution_count": 20,
     "metadata": {},
     "output_type": "execute_result"
    }
   ],
   "source": [
    "hrDF.filter(hrDF.MaritalDesc.isin ('Single','Married')).count()"
   ]
  },
  {
   "cell_type": "code",
   "execution_count": 70,
   "metadata": {},
   "outputs": [
    {
     "name": "stdout",
     "output_type": "stream",
     "text": [
      "+-------------+----------+---------+---------------+--------+-----------+------+-----------+----------------------+-------+-----+----------+------------+-----+----+--------+---+-----------+-----------+--------------+--------------------+----------+-----------------+--------------------+----------------+-------------+------------------+---------+------------------+----------------+----------------+---------------+--------------------+--------------------------+--------------+\n",
      "|Employee_Name|     EmpID|MarriedID|MaritalStatusID|GenderID|EmpStatusID|DeptID|PerfScoreID|FromDiversityJobFairID|PayRate|Termd|PositionID|    Position|State| Zip|     DOB|Sex|MaritalDesc|CitizenDesc|HispanicLatino|            RaceDesc|DateofHire|DateofTermination|          TermReason|EmploymentStatus|   Department|       ManagerName|ManagerID| RecruitmentSource|PerformanceScore|EngagementSurvey|EmpSatisfaction|SpecialProjectsCount|LastPerformanceReview_Date|DaysLateLast30|\n",
      "+-------------+----------+---------+---------------+--------+-----------+------+-----------+----------------------+-------+-----+----------+------------+-----+----+--------+---+-----------+-----------+--------------+--------------------+----------+-----------------+--------------------+----------------+-------------+------------------+---------+------------------+----------------+----------------+---------------+--------------------+--------------------------+--------------+\n",
      "|   Brown, Mia|1103024456|        1|              1|       0|          1|     1|          3|                     1|   28.5|    0|         1|Accountant I|   MA|1450|11/24/87|  F|    Married| US Citizen|            No|Black or African ...|10/27/2008|             null|N/A - still employed|          Active|Admin Offices|Brandon R. LeBlanc|        1|Diversity Job Fair|     Fully Meets|            2.04|              2|                   6|                 1/15/2019|             0|\n",
      "+-------------+----------+---------+---------------+--------+-----------+------+-----------+----------------------+-------+-----+----------+------------+-----+----+--------+---+-----------+-----------+--------------+--------------------+----------+-----------------+--------------------+----------------+-------------+------------------+---------+------------------+----------------+----------------+---------------+--------------------+--------------------------+--------------+\n",
      "only showing top 1 row\n",
      "\n"
     ]
    }
   ],
   "source": [
    "hrDF.filter(hrDF.MaritalDesc.isin ('Single','Married')).show(1)"
   ]
  },
  {
   "cell_type": "code",
   "execution_count": 22,
   "metadata": {},
   "outputs": [
    {
     "data": {
      "text/plain": [
       "260"
      ]
     },
     "execution_count": 22,
     "metadata": {},
     "output_type": "execute_result"
    }
   ],
   "source": [
    "hrDF.select('*').where(hrDF.MaritalDesc.isin ('Single','Married')).count()"
   ]
  },
  {
   "cell_type": "markdown",
   "metadata": {},
   "source": [
    "## How to find the mean of each age group in DataFrame?"
   ]
  },
  {
   "cell_type": "code",
   "execution_count": 23,
   "metadata": {},
   "outputs": [
    {
     "name": "stdout",
     "output_type": "stream",
     "text": [
      "+-----------+------------------+\n",
      "|MaritalDesc|      avg(PayRate)|\n",
      "+-----------+------------------+\n",
      "|  Separated|             29.75|\n",
      "|       null|              null|\n",
      "|    Married| 31.78365853658536|\n",
      "|   Divorced|26.616666666666667|\n",
      "|    Widowed|            28.275|\n",
      "|     Single| 32.16934306569343|\n",
      "+-----------+------------------+\n",
      "\n"
     ]
    }
   ],
   "source": [
    "hrDF.groupby('MaritalDesc').agg({'PayRate': 'mean'}).show()"
   ]
  },
  {
   "cell_type": "code",
   "execution_count": 24,
   "metadata": {},
   "outputs": [
    {
     "name": "stdout",
     "output_type": "stream",
     "text": [
      "+-----------+-----+\n",
      "|MaritalDesc|count|\n",
      "+-----------+-----+\n",
      "|  Separated|   12|\n",
      "|       null|   91|\n",
      "|    Married|  123|\n",
      "|   Divorced|   30|\n",
      "|    Widowed|    8|\n",
      "|     Single|  137|\n",
      "+-----------+-----+\n",
      "\n"
     ]
    }
   ],
   "source": [
    "hrDF.groupby('MaritalDesc').count().show()"
   ]
  },
  {
   "cell_type": "markdown",
   "metadata": {},
   "source": [
    "## How to create a sample DataFrame from the base DataFrame?"
   ]
  },
  {
   "cell_type": "raw",
   "metadata": {},
   "source": [
    "We can use sample operation to take sample of a DataFrame. The sample method on DataFrame will return a DataFrame containing the sample of base DataFrame. The sample method will take 3 parameters.\n",
    "\n",
    ">withReplacement = True or False to select a observation with or without replacement.\n",
    ">fraction = x, where x = .5 shows that we want to have 50% data in sample DataFrame.\n",
    ">seed for reproduce the result\n",
    "\n",
    "Let’s create the two DataFrame t1 and t2 from train, both will have 20% sample of train and count the number of rows in each."
   ]
  },
  {
   "cell_type": "code",
   "execution_count": 28,
   "metadata": {},
   "outputs": [],
   "source": [
    "t1 = hrDF.sample(withReplacement=False, fraction=20/100, seed=50)\n",
    "t2 = hrDF.sample(withReplacement=False, fraction=20/100, seed=20)"
   ]
  },
  {
   "cell_type": "code",
   "execution_count": 30,
   "metadata": {},
   "outputs": [
    {
     "data": {
      "text/plain": [
       "75"
      ]
     },
     "execution_count": 30,
     "metadata": {},
     "output_type": "execute_result"
    }
   ],
   "source": [
    "t1.count()"
   ]
  },
  {
   "cell_type": "code",
   "execution_count": 31,
   "metadata": {},
   "outputs": [
    {
     "data": {
      "text/plain": [
       "80"
      ]
     },
     "execution_count": 31,
     "metadata": {},
     "output_type": "execute_result"
    }
   ],
   "source": [
    "t2.count()"
   ]
  },
  {
   "cell_type": "markdown",
   "metadata": {},
   "source": [
    "## How to apply map operation on DataFrame columns?"
   ]
  },
  {
   "cell_type": "raw",
   "metadata": {},
   "source": [
    "We can apply a function on each row of DataFrame using map operation. After applying this function, we get the result in the form of RDD."
   ]
  },
  {
   "cell_type": "code",
   "execution_count": 41,
   "metadata": {},
   "outputs": [
    {
     "data": {
      "text/plain": [
       "[(Row(EmpID=1103024456, Employee_Name='Brown, Mia'), 1),\n",
       " (Row(EmpID=1106026572, Employee_Name='LaRotonda, William  '), 1),\n",
       " (Row(EmpID=1302053333, Employee_Name='Steans, Tyrone  '), 1),\n",
       " (Row(EmpID=1211050782, Employee_Name='Howard, Estelle'), 1),\n",
       " (Row(EmpID=1307059817, Employee_Name='Singh, Nan '), 1)]"
      ]
     },
     "execution_count": 41,
     "metadata": {},
     "output_type": "execute_result"
    }
   ],
   "source": [
    "hrDF.select('EmpID','Employee_Name').rdd.map(lambda x:(x,1)).take(5)"
   ]
  },
  {
   "cell_type": "markdown",
   "metadata": {},
   "source": [
    "## How to sort the DataFrame based on column(s)?"
   ]
  },
  {
   "cell_type": "raw",
   "metadata": {},
   "source": [
    "We can use orderBy operation on DataFrame to get sorted output based on some column. The orderBy operation take two arguments.\n",
    "\n",
    ">List of columns.\n",
    ">ascending = True or False for getting the results in ascending or descending order(list in case of more than two columns )\n",
    "\n",
    "Let’s sort the train DataFrame based on ‘DeptID’."
   ]
  },
  {
   "cell_type": "code",
   "execution_count": 62,
   "metadata": {},
   "outputs": [
    {
     "name": "stdout",
     "output_type": "stream",
     "text": [
      "+----------+--------------------+------+\n",
      "|     EmpID|       Employee_Name|DeptID|\n",
      "+----------+--------------------+------+\n",
      "|1409070567|        Costa, Latia|     6|\n",
      "|1111030503|    Villanueva, Noah|     6|\n",
      "|1401064637|    Terry, Sharlene |     6|\n",
      "|1504073313|        Buck, Edward|     6|\n",
      "|1403065721|   Carter, Michelle |     6|\n",
      "|1411071302|      Fraval, Maruk |     6|\n",
      "|1306059197|    Digitale, Alfred|     6|\n",
      "|1203032099|      Givens, Myriam|     6|\n",
      "|1302053046|     Gill, Whitney  |     6|\n",
      "|1001084890|       Jeremy Prater|     6|\n",
      "|1001167253|     Guilianno, Mike|     6|\n",
      "|1104025008|Khemmich, Barthol...|     6|\n",
      "|1306057978|    Mullaney, Howard|     6|\n",
      "|1209048771|     Martins, Joseph|     6|\n",
      "|1411071295|     Strong, Caitrin|     6|\n",
      "|1209049326|       McKinzie, Jac|     6|\n",
      "|1504073368|    Bunbury, Jessica|     6|\n",
      "|1111030684|      Nguyen, Dheepa|     6|\n",
      "|1204032843|     Friedman, Gerry|     6|\n",
      "|1501072180|      Onque, Jasmine|     6|\n",
      "+----------+--------------------+------+\n",
      "only showing top 20 rows\n",
      "\n"
     ]
    }
   ],
   "source": [
    "hrDF.select('EmpID','Employee_Name','DeptID').filter(hrDF.DeptID.isNotNull()).orderBy('DeptID',ascending=False).show()"
   ]
  },
  {
   "cell_type": "markdown",
   "metadata": {},
   "source": [
    "### How to add the new column in DataFrame?"
   ]
  },
  {
   "cell_type": "raw",
   "metadata": {},
   "source": [
    "We can use withColumn operation to add new column (we can also replace) in base DataFrame and return a new DataFrame. The withColumn operation will take 2 parameters.\n",
    "\n",
    ">Column name which we want add /replace.\n",
    ">Expression on column.\n",
    "\n",
    "Let’s see how withColumn works."
   ]
  },
  {
   "cell_type": "code",
   "execution_count": 73,
   "metadata": {},
   "outputs": [
    {
     "name": "stdout",
     "output_type": "stream",
     "text": [
      "+----------------+--------------------+\n",
      "|EngagementSurvey|EngagementSurvey_New|\n",
      "+----------------+--------------------+\n",
      "|            2.04|                3.04|\n",
      "|             5.0|                 6.0|\n",
      "|             3.9|                 4.9|\n",
      "|            3.24|                4.24|\n",
      "|             5.0|                 6.0|\n",
      "+----------------+--------------------+\n",
      "only showing top 5 rows\n",
      "\n"
     ]
    }
   ],
   "source": [
    "hrDF.withColumn('EngagementSurvey_new',hrDF.EngagementSurvey+1).select('EngagementSurvey','EngagementSurvey_New').show(5)"
   ]
  },
  {
   "cell_type": "markdown",
   "metadata": {},
   "source": [
    "## How to Apply SQL Queries on DataFrame?"
   ]
  },
  {
   "cell_type": "code",
   "execution_count": 75,
   "metadata": {},
   "outputs": [],
   "source": [
    "hrDF.registerTempTable('HR_DATASET')"
   ]
  },
  {
   "cell_type": "code",
   "execution_count": 77,
   "metadata": {},
   "outputs": [
    {
     "name": "stdout",
     "output_type": "stream",
     "text": [
      "+--------------------+----------+\n",
      "|       Employee_Name|     EmpID|\n",
      "+--------------------+----------+\n",
      "|          Brown, Mia|1103024456|\n",
      "|LaRotonda, William  |1106026572|\n",
      "|    Steans, Tyrone  |1302053333|\n",
      "|     Howard, Estelle|1211050782|\n",
      "|         Singh, Nan |1307059817|\n",
      "|    Smith, Leigh Ann| 711007713|\n",
      "|    Bunbury, Jessica|1504073368|\n",
      "|   Carter, Michelle |1403065721|\n",
      "|   Dietrich, Jenna  |1408069481|\n",
      "|    Digitale, Alfred|1306059197|\n",
      "|     Friedman, Gerry|1204032843|\n",
      "|     Gill, Whitney  |1302053046|\n",
      "|   Gonzales, Ricardo|1411071481|\n",
      "|     Guilianno, Mike|1001167253|\n",
      "|    Leruth, Giovanni|1412071660|\n",
      "|    Mullaney, Howard|1306057978|\n",
      "|       Ozark, Travis| 812011761|\n",
      "|     Strong, Caitrin|1411071295|\n",
      "|     Valentin,Jackie|1312063714|\n",
      "|    Villanueva, Noah|1111030503|\n",
      "+--------------------+----------+\n",
      "only showing top 20 rows\n",
      "\n"
     ]
    }
   ],
   "source": [
    "sqlContext.sql('select Employee_Name,EmpID from HR_DATASET').show()"
   ]
  },
  {
   "cell_type": "markdown",
   "metadata": {},
   "source": [
    "## Pandas vs PySpark DataFrame"
   ]
  },
  {
   "cell_type": "raw",
   "metadata": {},
   "source": [
    "1:> Operation on Pyspark DataFrame run parallel on different nodes in cluster but, in case of pandas it is not possible.\n",
    "\n",
    "2:> Operations in PySpark DataFrame are lazy in nature but, in case of pandas we get the result as soon as we apply any operation.\n",
    "\n",
    "3:> In PySpark DataFrame, we can’t change the DataFrame due to it’s immutable property, we need to transform it. But in pandas it is not the case.\n",
    "Pandas API support more operations than PySpark DataFrame. Still pandas API is more powerful than Spark.\n",
    "\n",
    "4:> Complex operations in pandas are easier to perform than Pyspark DataFrame"
   ]
  },
  {
   "cell_type": "code",
   "execution_count": null,
   "metadata": {},
   "outputs": [],
   "source": []
  }
 ],
 "metadata": {
  "kernelspec": {
   "display_name": "Python 3",
   "language": "python",
   "name": "python3"
  },
  "language_info": {
   "codemirror_mode": {
    "name": "ipython",
    "version": 3
   },
   "file_extension": ".py",
   "mimetype": "text/x-python",
   "name": "python",
   "nbconvert_exporter": "python",
   "pygments_lexer": "ipython3",
   "version": "3.7.1"
  }
 },
 "nbformat": 4,
 "nbformat_minor": 2
}
