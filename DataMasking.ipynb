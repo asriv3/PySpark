{
 "cells": [
  {
   "cell_type": "code",
   "execution_count": 1,
   "metadata": {},
   "outputs": [],
   "source": [
    "#Import Required Python, Spark Libraries\n",
    "from itertools import islice\n",
    "import six\n",
    "from pyspark import SparkContext, SparkConf\n",
    "#Define Spark configuration and SparkContext\n",
    "conf = SparkConf().setAppName(\"Simple Masking App\").setMaster(\"local\")\n",
    "sc = SparkContext(conf=conf)"
   ]
  },
  {
   "cell_type": "markdown",
   "metadata": {},
   "source": [
    "# Option 1: When Masking Should be done Only on email"
   ]
  },
  {
   "cell_type": "code",
   "execution_count": 2,
   "metadata": {},
   "outputs": [
    {
     "data": {
      "text/plain": [
       "'j****@g****.com'"
      ]
     },
     "execution_count": 2,
     "metadata": {},
     "output_type": "execute_result"
    }
   ],
   "source": [
    "#Define Python Function to Mask email \n",
    "\n",
    "def maskEmail(email):\n",
    "    firstPart = list(email.split('@')[0])\n",
    "    secondPart = list(email.split('@')[1])\n",
    "    f = ['*' for sub in firstPart[1:]] \n",
    "    s = ['*' for sub in secondPart[1:\"\".join(secondPart).find('.')]] \n",
    "    str1=\"\".join(firstPart[0:1])+\"\".join(f)\n",
    "    str2=\"\".join(secondPart[0:1])+\"\".join(s)+\"\".join(secondPart[\"\".join(secondPart).find('.'):])\n",
    "    return str1+'@'+str2\n",
    "\n",
    "#Test Above function\n",
    "str = 'james@gmail.com'\n",
    "maskEmail(str)"
   ]
  },
  {
   "cell_type": "code",
   "execution_count": 3,
   "metadata": {},
   "outputs": [
    {
     "name": "stdout",
     "output_type": "stream",
     "text": [
      "James,james@gmail.com,Sr. Developer\n",
      "Smith,Smith@gmail.com,Project Lead\n"
     ]
    }
   ],
   "source": [
    "#Read file data in Spark RDD\n",
    "empRDD = sc.textFile(\"EmployData.csv\")\n",
    "#Remove Header\n",
    "empNoHeaderRDD = empRDD.mapPartitionsWithIndex(lambda idx, it: islice(it, 1, None) if idx == 0 else it)\n",
    "#Print RDD data\n",
    "for i in empNoHeaderRDD.take(10):print(i)"
   ]
  },
  {
   "cell_type": "code",
   "execution_count": 4,
   "metadata": {},
   "outputs": [
    {
     "name": "stdout",
     "output_type": "stream",
     "text": [
      "('James', 'j****@g****.com', 'Sr. Developer')\n",
      "('Smith', 'S****@g****.com', 'Project Lead')\n"
     ]
    }
   ],
   "source": [
    "#Apply Function maskEmail() on email stored in RDD.\n",
    "empRDD1 = empNoHeaderRDD.map(lambda x:(x.split(\",\")[0],maskEmail(x.split(\",\")[1]),x.split(\",\")[2]))\n",
    "for i in empRDD1.take(2):print(i)"
   ]
  },
  {
   "cell_type": "markdown",
   "metadata": {},
   "source": [
    "# Option 2: When Masking Should be done On Multiple Columns"
   ]
  },
  {
   "cell_type": "code",
   "execution_count": 5,
   "metadata": {},
   "outputs": [],
   "source": [
    "#Define Python Function to Mask column \n",
    "def maskColumn(colName):\n",
    "    if isinstance(colName, six.string_types) == True:\n",
    "        return '*****Masked Data*****'\n",
    "    else:\n",
    "        return 0"
   ]
  },
  {
   "cell_type": "code",
   "execution_count": 6,
   "metadata": {},
   "outputs": [
    {
     "data": {
      "text/plain": [
       "'*****Masked Data*****'"
      ]
     },
     "execution_count": 6,
     "metadata": {},
     "output_type": "execute_result"
    }
   ],
   "source": [
    "maskColumn(\"Confidential Data\")"
   ]
  },
  {
   "cell_type": "code",
   "execution_count": 7,
   "metadata": {},
   "outputs": [
    {
     "data": {
      "text/plain": [
       "0"
      ]
     },
     "execution_count": 7,
     "metadata": {},
     "output_type": "execute_result"
    }
   ],
   "source": [
    "maskColumn(35440)"
   ]
  },
  {
   "cell_type": "code",
   "execution_count": 8,
   "metadata": {},
   "outputs": [
    {
     "data": {
      "text/plain": [
       "0"
      ]
     },
     "execution_count": 8,
     "metadata": {},
     "output_type": "execute_result"
    }
   ],
   "source": [
    "maskColumn(35440.766)"
   ]
  },
  {
   "cell_type": "code",
   "execution_count": 9,
   "metadata": {},
   "outputs": [
    {
     "name": "stdout",
     "output_type": "stream",
     "text": [
      "('James', '*****Masked Data*****', '*****Masked Data*****')\n",
      "('Smith', '*****Masked Data*****', '*****Masked Data*****')\n"
     ]
    }
   ],
   "source": [
    "empRDD1 = empNoHeaderRDD.map(lambda x:(x.split(\",\")[0],maskColumn(x.split(\",\")[1]),maskColumn(x.split(\",\")[2])))\n",
    "for i in empRDD1.take(2):print(i)"
   ]
  },
  {
   "cell_type": "markdown",
   "metadata": {},
   "source": [
    "# Option 3: First Masking And Later Unmasking Should be done"
   ]
  },
  {
   "cell_type": "code",
   "execution_count": 30,
   "metadata": {},
   "outputs": [],
   "source": [
    "#In this case, Str to Hex conversion can be used to mask data. To Unmask such data, Hex to Str conversion can be used.\n",
    "\n",
    "import functools\n",
    "def toHex(s):\n",
    "    lst = []\n",
    "    for ch in s:\n",
    "        hv = hex(ord(ch)).replace('0x', '')\n",
    "        if len(hv) == 1:\n",
    "            hv = '0'+hv\n",
    "        lst.append(hv)\n",
    "        \n",
    "    return functools.reduce(lambda x,y:x+y, lst)\n",
    "\n",
    "#convert hex repr to string\n",
    "def toStr(s):\n",
    "    return s and chr(int(s[:2], base=16)) + toStr(s[2:]) or ''"
   ]
  },
  {
   "cell_type": "code",
   "execution_count": 33,
   "metadata": {},
   "outputs": [
    {
     "data": {
      "text/plain": [
       "'546573742044617461'"
      ]
     },
     "execution_count": 33,
     "metadata": {},
     "output_type": "execute_result"
    }
   ],
   "source": [
    "toHex('Test Data')"
   ]
  },
  {
   "cell_type": "code",
   "execution_count": 35,
   "metadata": {},
   "outputs": [
    {
     "data": {
      "text/plain": [
       "'Test Data'"
      ]
     },
     "execution_count": 35,
     "metadata": {},
     "output_type": "execute_result"
    }
   ],
   "source": [
    "toStr('546573742044617461')"
   ]
  },
  {
   "cell_type": "code",
   "execution_count": null,
   "metadata": {},
   "outputs": [],
   "source": []
  }
 ],
 "metadata": {
  "kernelspec": {
   "display_name": "Python 3",
   "language": "python",
   "name": "python3"
  },
  "language_info": {
   "codemirror_mode": {
    "name": "ipython",
    "version": 3
   },
   "file_extension": ".py",
   "mimetype": "text/x-python",
   "name": "python",
   "nbconvert_exporter": "python",
   "pygments_lexer": "ipython3",
   "version": "3.7.1"
  }
 },
 "nbformat": 4,
 "nbformat_minor": 2
}
