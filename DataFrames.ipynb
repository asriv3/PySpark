{
 "cells": [
  {
   "cell_type": "markdown",
   "metadata": {},
   "source": [
    "# What Are DataFrames?"
   ]
  },
  {
   "cell_type": "markdown",
   "metadata": {},
   "source": [
    "DataFrames generally refer to a data structure, which is tabular in nature. It represents rows, each of which consists of a number of observations. Rows can have a variety of data formats (heterogeneous), whereas a column can have data of the same data type (homogeneous). DataFrames usually contain some metadata in addition to data; for example, column and row names"
   ]
  },
  {
   "cell_type": "markdown",
   "metadata": {},
   "source": [
    "We can say that DataFrames are nothing, but 2-dimensional data structures, similar to a SQL table or a spreadsheet. Now let's move ahead with this PySpark Dataframe Tutorial and understand why exactly we need Pyspark Dataframe."
   ]
  },
  {
   "cell_type": "markdown",
   "metadata": {},
   "source": [
    "# Why Do We Need DataFrames?"
   ]
  },
  {
   "cell_type": "markdown",
   "metadata": {},
   "source": [
    "## 1: Processing Structured and Semi-Structured Data"
   ]
  },
  {
   "cell_type": "raw",
   "metadata": {},
   "source": [
    "DataFrames are designed to process a large collection of structured as well as semi-structured data. Observations in Spark DataFrame are organized under named columns, which helps Apache Spark understand the schema of a Dataframe. This helps Spark optimize the execution plan on these queries. It can also handle petabytes of data."
   ]
  },
  {
   "cell_type": "markdown",
   "metadata": {},
   "source": [
    "## 2. Slicing and Dicing"
   ]
  },
  {
   "cell_type": "raw",
   "metadata": {},
   "source": [
    "DataFrames APIs usually support elaborate methods for slicing-and-dicing the data. It includes operations such as \"selecting\" rows, columns, and cells by name or by number, filtering out rows, etc. Statistical data is usually very messy and contains lots of missing and incorrect values and range violations. So a critically important feature of DataFrames is the explicit management of missing data."
   ]
  },
  {
   "cell_type": "markdown",
   "metadata": {},
   "source": [
    "## 3. Data Sources"
   ]
  },
  {
   "cell_type": "raw",
   "metadata": {},
   "source": [
    "Data can be loaded in through a CSV, JSON, XML, or a Parquet file. It can also be created using an existing RDD and through any other database, like Hive or Cassandra as well. It can also take in data from HDFS or the local file system"
   ]
  },
  {
   "cell_type": "markdown",
   "metadata": {},
   "source": [
    "## 4. Support for Multiple Languages"
   ]
  },
  {
   "cell_type": "raw",
   "metadata": {},
   "source": [
    "It has API support for different languages like Python, R, Scala, Java, which makes it easier to be used by people having different programming backgrounds."
   ]
  },
  {
   "cell_type": "markdown",
   "metadata": {},
   "source": [
    "# Features of DataFrames"
   ]
  },
  {
   "cell_type": "markdown",
   "metadata": {},
   "source": [
    "1: DataFrames are distributed in nature, which makes it a fault tolerant and highly available data structure.<br><br>\n",
    "2:Lazy evaluation is an evaluation strategy which holds the evaluation of an expression until its value is needed. It avoids repeated evaluation. Lazy evaluation in Spark means that the execution will not start until an action is triggered. In Spark, the picture of lazy evaluation comes when Spark transformations occur.<br><br>\n",
    "3:DataFrames are immutable in nature. By immutable, I mean that it is an object whose state cannot be modified after it is created. But we can transform its values by applying a certain transformation, like in RDDs."
   ]
  },
  {
   "cell_type": "markdown",
   "metadata": {},
   "source": [
    "# Pyspark DataFrames Example 1: FIFA World Cup Dataset"
   ]
  },
  {
   "cell_type": "code",
   "execution_count": 1,
   "metadata": {},
   "outputs": [],
   "source": [
    "#Import Required Python & Spark Libraries\n",
    "\n",
    "from pyspark.sql import SparkSession"
   ]
  },
  {
   "cell_type": "code",
   "execution_count": 2,
   "metadata": {},
   "outputs": [],
   "source": [
    "spark = SparkSession \\\n",
    "    .builder \\\n",
    "    .appName(\"Create Spark Dataframes\") \\\n",
    "    .getOrCreate()"
   ]
  },
  {
   "cell_type": "code",
   "execution_count": 7,
   "metadata": {},
   "outputs": [],
   "source": [
    "fifaDF = spark.read.csv('fifa-world-cup/WorldCupPlayers.csv',header=True,inferSchema=True)"
   ]
  },
  {
   "cell_type": "code",
   "execution_count": 13,
   "metadata": {},
   "outputs": [
    {
     "name": "stdout",
     "output_type": "stream",
     "text": [
      "+-------+-------+-------------+-------------------+-------+------------+-----------------+--------+---------+\n",
      "|RoundID|MatchID|Team Initials|         Coach Name|Line-up|Shirt Number|      Player Name|Position|    Event|\n",
      "+-------+-------+-------------+-------------------+-------+------------+-----------------+--------+---------+\n",
      "|    201|   1096|          FRA|CAUDRON Raoul (FRA)|      S|           0|      Alex THEPOT|      GK|     null|\n",
      "|    201|   1096|          MEX|   LUQUE Juan (MEX)|      S|           0|  Oscar BONFIGLIO|      GK|     null|\n",
      "|    201|   1096|          FRA|CAUDRON Raoul (FRA)|      S|           0| Marcel LANGILLER|    null|     G40'|\n",
      "|    201|   1096|          MEX|   LUQUE Juan (MEX)|      S|           0|     Juan CARRENO|    null|     G70'|\n",
      "|    201|   1096|          FRA|CAUDRON Raoul (FRA)|      S|           0|  Ernest LIBERATI|    null|     null|\n",
      "|    201|   1096|          MEX|   LUQUE Juan (MEX)|      S|           0|     Rafael GARZA|       C|     null|\n",
      "|    201|   1096|          FRA|CAUDRON Raoul (FRA)|      S|           0|  Andre MASCHINOT|    null|G43' G87'|\n",
      "|    201|   1096|          MEX|   LUQUE Juan (MEX)|      S|           0|    Hilario LOPEZ|    null|     null|\n",
      "|    201|   1096|          FRA|CAUDRON Raoul (FRA)|      S|           0|  Etienne MATTLER|    null|     null|\n",
      "|    201|   1096|          MEX|   LUQUE Juan (MEX)|      S|           0|   Dionisio MEJIA|    null|     null|\n",
      "|    201|   1096|          FRA|CAUDRON Raoul (FRA)|      S|           0|     Marcel PINEL|    null|     null|\n",
      "|    201|   1096|          MEX|   LUQUE Juan (MEX)|      S|           0|     Felipe ROSAS|    null|     null|\n",
      "|    201|   1096|          FRA|CAUDRON Raoul (FRA)|      S|           0|  Alex VILLAPLANE|       C|     null|\n",
      "|    201|   1096|          MEX|   LUQUE Juan (MEX)|      S|           0|     Manuel ROSAS|    null|     null|\n",
      "|    201|   1096|          FRA|CAUDRON Raoul (FRA)|      S|           0|   Lucien LAURENT|    null|     G19'|\n",
      "|    201|   1096|          MEX|   LUQUE Juan (MEX)|      S|           0|        Jose RUIZ|    null|     null|\n",
      "|    201|   1096|          FRA|CAUDRON Raoul (FRA)|      S|           0|   Marcel CAPELLE|    null|     null|\n",
      "|    201|   1096|          MEX|   LUQUE Juan (MEX)|      S|           0|  Alfredo SANCHEZ|    null|     null|\n",
      "|    201|   1096|          FRA|CAUDRON Raoul (FRA)|      S|           0|Augustin CHANTREL|    null|     null|\n",
      "|    201|   1096|          MEX|   LUQUE Juan (MEX)|      S|           0|   Efrain AMEZCUA|    null|     null|\n",
      "+-------+-------+-------------+-------------------+-------+------------+-----------------+--------+---------+\n",
      "only showing top 20 rows\n",
      "\n"
     ]
    }
   ],
   "source": [
    "fifaDF.show()"
   ]
  },
  {
   "cell_type": "code",
   "execution_count": 9,
   "metadata": {},
   "outputs": [
    {
     "name": "stdout",
     "output_type": "stream",
     "text": [
      "root\n",
      " |-- RoundID: integer (nullable = true)\n",
      " |-- MatchID: integer (nullable = true)\n",
      " |-- Team Initials: string (nullable = true)\n",
      " |-- Coach Name: string (nullable = true)\n",
      " |-- Line-up: string (nullable = true)\n",
      " |-- Shirt Number: integer (nullable = true)\n",
      " |-- Player Name: string (nullable = true)\n",
      " |-- Position: string (nullable = true)\n",
      " |-- Event: string (nullable = true)\n",
      "\n"
     ]
    }
   ],
   "source": [
    "fifaDF.printSchema()"
   ]
  },
  {
   "cell_type": "code",
   "execution_count": 11,
   "metadata": {},
   "outputs": [
    {
     "data": {
      "text/plain": [
       "37784"
      ]
     },
     "execution_count": 11,
     "metadata": {},
     "output_type": "execute_result"
    }
   ],
   "source": [
    "#record count\n",
    "fifaDF.count()"
   ]
  },
  {
   "cell_type": "code",
   "execution_count": 16,
   "metadata": {},
   "outputs": [
    {
     "data": {
      "text/plain": [
       "['RoundID',\n",
       " 'MatchID',\n",
       " 'Team Initials',\n",
       " 'Coach Name',\n",
       " 'Line-up',\n",
       " 'Shirt Number',\n",
       " 'Player Name',\n",
       " 'Position',\n",
       " 'Event']"
      ]
     },
     "execution_count": 16,
     "metadata": {},
     "output_type": "execute_result"
    }
   ],
   "source": [
    "#Display columns\n",
    "fifaDF.columns"
   ]
  },
  {
   "cell_type": "code",
   "execution_count": 17,
   "metadata": {},
   "outputs": [
    {
     "data": {
      "text/plain": [
       "DataFrame[summary: string, RoundID: string, MatchID: string, Team Initials: string, Coach Name: string, Line-up: string, Shirt Number: string, Player Name: string, Position: string, Event: string]"
      ]
     },
     "execution_count": 17,
     "metadata": {},
     "output_type": "execute_result"
    }
   ],
   "source": [
    "fifaDF.describe()"
   ]
  },
  {
   "cell_type": "code",
   "execution_count": 22,
   "metadata": {},
   "outputs": [
    {
     "name": "stdout",
     "output_type": "stream",
     "text": [
      "+--------------------+--------------------+\n",
      "|         Player Name|          Coach Name|\n",
      "+--------------------+--------------------+\n",
      "|    Arturo FERNANDEZ| BRU Francisco (ESP)|\n",
      "|Cayetano CARRERAS...|DURAND LAGUNA Jos...|\n",
      "|  Ernesto MASCHERONI|SUPPICI Alberto (...|\n",
      "|          Aziz FAHMY|   McREA James (SCO)|\n",
      "|        Gyula POLGAR|    NADAS Odon (HUN)|\n",
      "|  Ernesto ALBARRACIN|PASCUCCI Felipe (...|\n",
      "| Armando CASTELLAZZI|POZZO Vittorio (ITA)|\n",
      "|     Jaroslav BOUCEK|   PETRU Karel (TCH)|\n",
      "|           Erwin NYC|  KALUZA Jozef (POL)|\n",
      "|     Stanislaw BARAN|  KALUZA Jozef (POL)|\n",
      "|     Fernando ROLDAN|BUCCIARDI Arturo ...|\n",
      "|            Joe MACA|  JEFFREY Bill (SCO)|\n",
      "|               INDIO|  MOREIRA Zeze (BRA)|\n",
      "|      Rene DEREUDDRE|PIBAROT Pierre (FRA)|\n",
      "|    Anton MALATINSKY|    CEJP Josef (TCH)|\n",
      "|    Alberto MARIOTTI|LORENZO Juan Carl...|\n",
      "|  Alfredo DI STEFANO|HERRERA Helenio (...|\n",
      "|             FIDELIS| FEOLA Vicente (BRA)|\n",
      "|     Stoyan YORDANOV|BOZHKOV Stefan (BUL)|\n",
      "|      Wim RIJSBERGEN| MICHELS Rinus (NED)|\n",
      "+--------------------+--------------------+\n",
      "only showing top 20 rows\n",
      "\n"
     ]
    }
   ],
   "source": [
    "#Selecting Distinct Multiple Columns\n",
    "fifaDF.select('Player Name','Coach Name').distinct().show()"
   ]
  },
  {
   "cell_type": "code",
   "execution_count": 23,
   "metadata": {},
   "outputs": [
    {
     "name": "stdout",
     "output_type": "stream",
     "text": [
      "+-------+-------+-------------+-------------------+-------+------------+-----------------+--------+---------+\n",
      "|RoundID|MatchID|Team Initials|         Coach Name|Line-up|Shirt Number|      Player Name|Position|    Event|\n",
      "+-------+-------+-------------+-------------------+-------+------------+-----------------+--------+---------+\n",
      "|    201|   1096|          FRA|CAUDRON Raoul (FRA)|      S|           0|      Alex THEPOT|      GK|     null|\n",
      "|    201|   1096|          MEX|   LUQUE Juan (MEX)|      S|           0|  Oscar BONFIGLIO|      GK|     null|\n",
      "|    201|   1096|          FRA|CAUDRON Raoul (FRA)|      S|           0| Marcel LANGILLER|    null|     G40'|\n",
      "|    201|   1096|          MEX|   LUQUE Juan (MEX)|      S|           0|     Juan CARRENO|    null|     G70'|\n",
      "|    201|   1096|          FRA|CAUDRON Raoul (FRA)|      S|           0|  Ernest LIBERATI|    null|     null|\n",
      "|    201|   1096|          MEX|   LUQUE Juan (MEX)|      S|           0|     Rafael GARZA|       C|     null|\n",
      "|    201|   1096|          FRA|CAUDRON Raoul (FRA)|      S|           0|  Andre MASCHINOT|    null|G43' G87'|\n",
      "|    201|   1096|          MEX|   LUQUE Juan (MEX)|      S|           0|    Hilario LOPEZ|    null|     null|\n",
      "|    201|   1096|          FRA|CAUDRON Raoul (FRA)|      S|           0|  Etienne MATTLER|    null|     null|\n",
      "|    201|   1096|          MEX|   LUQUE Juan (MEX)|      S|           0|   Dionisio MEJIA|    null|     null|\n",
      "|    201|   1096|          FRA|CAUDRON Raoul (FRA)|      S|           0|     Marcel PINEL|    null|     null|\n",
      "|    201|   1096|          MEX|   LUQUE Juan (MEX)|      S|           0|     Felipe ROSAS|    null|     null|\n",
      "|    201|   1096|          FRA|CAUDRON Raoul (FRA)|      S|           0|  Alex VILLAPLANE|       C|     null|\n",
      "|    201|   1096|          MEX|   LUQUE Juan (MEX)|      S|           0|     Manuel ROSAS|    null|     null|\n",
      "|    201|   1096|          FRA|CAUDRON Raoul (FRA)|      S|           0|   Lucien LAURENT|    null|     G19'|\n",
      "|    201|   1096|          MEX|   LUQUE Juan (MEX)|      S|           0|        Jose RUIZ|    null|     null|\n",
      "|    201|   1096|          FRA|CAUDRON Raoul (FRA)|      S|           0|   Marcel CAPELLE|    null|     null|\n",
      "|    201|   1096|          MEX|   LUQUE Juan (MEX)|      S|           0|  Alfredo SANCHEZ|    null|     null|\n",
      "|    201|   1096|          FRA|CAUDRON Raoul (FRA)|      S|           0|Augustin CHANTREL|    null|     null|\n",
      "|    201|   1096|          MEX|   LUQUE Juan (MEX)|      S|           0|   Efrain AMEZCUA|    null|     null|\n",
      "+-------+-------+-------------+-------------------+-------+------------+-----------------+--------+---------+\n",
      "only showing top 20 rows\n",
      "\n"
     ]
    },
    {
     "data": {
      "text/plain": [
       "33"
      ]
     },
     "execution_count": 23,
     "metadata": {},
     "output_type": "execute_result"
    }
   ],
   "source": [
    "#Filtering Data\n",
    "fifaDF.filter(fifaDF.MatchID=='1096').show()\n",
    "fifaDF.filter(fifaDF.MatchID=='1096').count()"
   ]
  },
  {
   "cell_type": "code",
   "execution_count": 24,
   "metadata": {},
   "outputs": [
    {
     "name": "stdout",
     "output_type": "stream",
     "text": [
      "+-------+-------+-------------+-------------------+-------+------------+-----------------+--------+---------+\n",
      "|RoundID|MatchID|Team Initials|         Coach Name|Line-up|Shirt Number|      Player Name|Position|    Event|\n",
      "+-------+-------+-------------+-------------------+-------+------------+-----------------+--------+---------+\n",
      "|    201|   1096|          FRA|CAUDRON Raoul (FRA)|      S|           0|      Alex THEPOT|      GK|     null|\n",
      "|    201|   1096|          MEX|   LUQUE Juan (MEX)|      S|           0|  Oscar BONFIGLIO|      GK|     null|\n",
      "|    201|   1096|          FRA|CAUDRON Raoul (FRA)|      S|           0| Marcel LANGILLER|    null|     G40'|\n",
      "|    201|   1096|          MEX|   LUQUE Juan (MEX)|      S|           0|     Juan CARRENO|    null|     G70'|\n",
      "|    201|   1096|          FRA|CAUDRON Raoul (FRA)|      S|           0|  Ernest LIBERATI|    null|     null|\n",
      "|    201|   1096|          MEX|   LUQUE Juan (MEX)|      S|           0|     Rafael GARZA|       C|     null|\n",
      "|    201|   1096|          FRA|CAUDRON Raoul (FRA)|      S|           0|  Andre MASCHINOT|    null|G43' G87'|\n",
      "|    201|   1096|          MEX|   LUQUE Juan (MEX)|      S|           0|    Hilario LOPEZ|    null|     null|\n",
      "|    201|   1096|          FRA|CAUDRON Raoul (FRA)|      S|           0|  Etienne MATTLER|    null|     null|\n",
      "|    201|   1096|          MEX|   LUQUE Juan (MEX)|      S|           0|   Dionisio MEJIA|    null|     null|\n",
      "|    201|   1096|          FRA|CAUDRON Raoul (FRA)|      S|           0|     Marcel PINEL|    null|     null|\n",
      "|    201|   1096|          MEX|   LUQUE Juan (MEX)|      S|           0|     Felipe ROSAS|    null|     null|\n",
      "|    201|   1096|          FRA|CAUDRON Raoul (FRA)|      S|           0|  Alex VILLAPLANE|       C|     null|\n",
      "|    201|   1096|          MEX|   LUQUE Juan (MEX)|      S|           0|     Manuel ROSAS|    null|     null|\n",
      "|    201|   1096|          FRA|CAUDRON Raoul (FRA)|      S|           0|   Lucien LAURENT|    null|     G19'|\n",
      "|    201|   1096|          MEX|   LUQUE Juan (MEX)|      S|           0|        Jose RUIZ|    null|     null|\n",
      "|    201|   1096|          FRA|CAUDRON Raoul (FRA)|      S|           0|   Marcel CAPELLE|    null|     null|\n",
      "|    201|   1096|          MEX|   LUQUE Juan (MEX)|      S|           0|  Alfredo SANCHEZ|    null|     null|\n",
      "|    201|   1096|          FRA|CAUDRON Raoul (FRA)|      S|           0|Augustin CHANTREL|    null|     null|\n",
      "|    201|   1096|          MEX|   LUQUE Juan (MEX)|      S|           0|   Efrain AMEZCUA|    null|     null|\n",
      "+-------+-------+-------------+-------------------+-------+------------+-----------------+--------+---------+\n",
      "only showing top 20 rows\n",
      "\n"
     ]
    },
    {
     "data": {
      "text/plain": [
       "33"
      ]
     },
     "execution_count": 24,
     "metadata": {},
     "output_type": "execute_result"
    }
   ],
   "source": [
    "fifaDF.filter(fifaDF[\"MatchID\"]=='1096').show()\n",
    "fifaDF.filter(fifaDF[\"MatchID\"]=='1096').count()"
   ]
  },
  {
   "cell_type": "code",
   "execution_count": 33,
   "metadata": {},
   "outputs": [
    {
     "name": "stdout",
     "output_type": "stream",
     "text": [
      "+-------+-------+-------------+--------------------+-------+------------+------------------+--------+-----+\n",
      "|RoundID|MatchID|Team Initials|          Coach Name|Line-up|Shirt Number|       Player Name|Position|Event|\n",
      "+-------+-------+-------------+--------------------+-------+------------+------------------+--------+-----+\n",
      "|    201|   1096|          FRA| CAUDRON Raoul (FRA)|      S|           0|  Marcel LANGILLER|    null| G40'|\n",
      "|    201|   1096|          MEX|    LUQUE Juan (MEX)|      S|           0|      Rafael GARZA|       C| null|\n",
      "|    201|   1096|          FRA| CAUDRON Raoul (FRA)|      S|           0|   Alex VILLAPLANE|       C| null|\n",
      "|    201|   1090|          USA|    MILLAR Bob (USA)|      S|           0|        Tom FLORIE|       C| G45'|\n",
      "|    201|   1090|          BEL|GOETINCK Hector (...|      S|           0|     Pierre BRAINE|       C| null|\n",
      "|    201|   1093|          BRA|DE CARVALHO Pinda...|      S|           0|         PREGUINHO|       C| G62'|\n",
      "|    201|   1093|          YUG|SIMONOVIC Bosko (...|      S|           0|   Milutin IVKOVIC|       C| null|\n",
      "|    201|   1098|          PER| BRU Francisco (ESP)|      S|           0|   Placido GALINDO|       C| R70'|\n",
      "|    201|   1098|          ROU| LUCHIDE Octav (ROU)|      S|           0|      Emerich VOGL|       C| null|\n",
      "|    201|   1085|          FRA| CAUDRON Raoul (FRA)|      S|           0|   Alex VILLAPLANE|       C| null|\n",
      "|    201|   1085|          ARG|OLAZAR Francisco ...|      S|           0|   Manuel FERREIRA|       C| null|\n",
      "|    201|   1095|          CHI|   ORTH Gyorgy (HUN)|      S|           0|Carlos SCHNEBERGER|       C| null|\n",
      "|    201|   1095|          MEX|    LUQUE Juan (MEX)|      S|           0|      Rafael GARZA|       C| null|\n",
      "|    201|   1092|          BOL|SAUCEDO Ulises (BOL)|      S|           0|     Rafael MENDEZ|       C| null|\n",
      "|    201|   1092|          YUG|SIMONOVIC Bosko (...|      S|           0|   Milutin IVKOVIC|       C| null|\n",
      "|    201|   1097|          USA|    MILLAR Bob (USA)|      S|           0|        Tom FLORIE|       C| null|\n",
      "|    201|   1097|          PAR|DURAND LAGUNA Jos...|      S|           0|  Luis VARGAS PENA|       C| null|\n",
      "|    201|   1099|          PER| BRU Francisco (ESP)|      S|           0|  Antonio MAQUILON|       C| null|\n",
      "|    201|   1099|          URU|SUPPICI Alberto (...|      S|           0|      Jose NASAZZI|       C| null|\n",
      "|    201|   1094|          FRA| CAUDRON Raoul (FRA)|      S|           0|   Alex VILLAPLANE|       C| null|\n",
      "+-------+-------+-------------+--------------------+-------+------------+------------------+--------+-----+\n",
      "only showing top 20 rows\n",
      "\n"
     ]
    }
   ],
   "source": [
    "#Filtering Data (Multiple Parameters)\n",
    "#We can filter our data based on multiple conditions (AND or OR)\n",
    "\n",
    "fifaDF.filter((fifaDF.Position=='C') | (fifaDF.Event==\"G40'\")).show()"
   ]
  },
  {
   "cell_type": "code",
   "execution_count": 34,
   "metadata": {},
   "outputs": [
    {
     "name": "stdout",
     "output_type": "stream",
     "text": [
      "+-------+-------+-------------+--------------------+-------+------------+-------------------+--------+---------+\n",
      "|RoundID|MatchID|Team Initials|          Coach Name|Line-up|Shirt Number|        Player Name|Position|    Event|\n",
      "+-------+-------+-------------+--------------------+-------+------------+-------------------+--------+---------+\n",
      "|    323|     25|          BRA|LAZARONI Sebastia...|      S|           1|           TAFFAREL|      GK|     null|\n",
      "|    323|     25|          BRA|LAZARONI Sebastia...|      S|          21|       MAURO GALVAO|    null|Y50' O83'|\n",
      "|    323|     25|          ARG|BILARDO Carlos (ARG)|      S|          12|   Sergio GOYCOCHEA|      GK|     Y87'|\n",
      "|    323|     25|          BRA|LAZARONI Sebastia...|      S|           2|           JORGINHO|    null|     null|\n",
      "|    323|     25|          ARG|BILARDO Carlos (ARG)|      S|           4|      Jose BASUALDO|    null|     null|\n",
      "|    323|     25|          BRA|LAZARONI Sebastia...|      S|           3|      RICARDO GOMES|       C|     R85'|\n",
      "|    323|     25|          ARG|BILARDO Carlos (ARG)|      S|           7|   Jorge BURRUCHAGA|    null|     null|\n",
      "|    323|     25|          BRA|LAZARONI Sebastia...|      S|           4|              DUNGA|    null|     null|\n",
      "|    323|     25|          ARG|BILARDO Carlos (ARG)|      S|           8|   Claudio CANIGGIA|    null|     G81'|\n",
      "|    323|     25|          BRA|LAZARONI Sebastia...|      S|           5|             ALEMAO|    null|     O83'|\n",
      "|    323|     25|          ARG|BILARDO Carlos (ARG)|      S|          10|     Diego MARADONA|       C|     null|\n",
      "|    323|     25|          BRA|LAZARONI Sebastia...|      S|           6|             BRANCO|    null|     null|\n",
      "|    323|     25|          ARG|BILARDO Carlos (ARG)|      S|          14|     Ricardo GIUSTI|    null|     Y28'|\n",
      "|    323|     25|          BRA|LAZARONI Sebastia...|      S|           8|              VALDO|    null|     null|\n",
      "|    323|     25|          ARG|BILARDO Carlos (ARG)|      S|          15|       Pedro MONZON|    null|     Y27'|\n",
      "|    323|     25|          BRA|LAZARONI Sebastia...|      S|           9|             CARECA|    null|     null|\n",
      "|    323|     25|          ARG|BILARDO Carlos (ARG)|      S|          16|Julio OLARTICOECHEA|    null|     null|\n",
      "|    323|     25|          BRA|LAZARONI Sebastia...|      S|          15|             MULLER|    null|     null|\n",
      "|    323|     25|          ARG|BILARDO Carlos (ARG)|      S|          19|      Oscar RUGGERI|    null|     null|\n",
      "|    323|     25|          BRA|LAZARONI Sebastia...|      S|          19|      RICARDO ROCHA|    null|     Y40'|\n",
      "+-------+-------+-------------+--------------------+-------+------------+-------------------+--------+---------+\n",
      "only showing top 20 rows\n",
      "\n"
     ]
    }
   ],
   "source": [
    "#Sorting Data (OrderBy)\n",
    "fifaDF.orderBy(fifaDF.MatchID).show()"
   ]
  },
  {
   "cell_type": "code",
   "execution_count": 35,
   "metadata": {},
   "outputs": [
    {
     "name": "stdout",
     "output_type": "stream",
     "text": [
      "+------------+-----+\n",
      "|Shirt Number|count|\n",
      "+------------+-----+\n",
      "|          12| 1554|\n",
      "|          22| 1544|\n",
      "|           1| 1559|\n",
      "|          13| 1550|\n",
      "|           6| 1554|\n",
      "|          16| 1554|\n",
      "|           3| 1554|\n",
      "|          20| 1551|\n",
      "|           5| 1553|\n",
      "|          19| 1554|\n",
      "|          15| 1554|\n",
      "|           9| 1554|\n",
      "|          17| 1553|\n",
      "|           4| 1554|\n",
      "|           8| 1554|\n",
      "|          23|  549|\n",
      "|           7| 1554|\n",
      "|          10| 1554|\n",
      "|          21| 1546|\n",
      "|          11| 1554|\n",
      "+------------+-----+\n",
      "only showing top 20 rows\n",
      "\n"
     ]
    }
   ],
   "source": [
    "#Group By\n",
    "\n",
    "fifaDF.groupby(\"Shirt Number\")\\\n",
    ".count()\\\n",
    ".show()"
   ]
  },
  {
   "cell_type": "code",
   "execution_count": null,
   "metadata": {},
   "outputs": [],
   "source": []
  }
 ],
 "metadata": {
  "kernelspec": {
   "display_name": "Python 3",
   "language": "python",
   "name": "python3"
  },
  "language_info": {
   "codemirror_mode": {
    "name": "ipython",
    "version": 3
   },
   "file_extension": ".py",
   "mimetype": "text/x-python",
   "name": "python",
   "nbconvert_exporter": "python",
   "pygments_lexer": "ipython3",
   "version": "3.7.1"
  }
 },
 "nbformat": 4,
 "nbformat_minor": 2
}
